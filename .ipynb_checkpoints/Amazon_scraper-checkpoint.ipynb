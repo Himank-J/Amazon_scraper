{
 "cells": [
  {
   "cell_type": "code",
   "execution_count": 2,
   "metadata": {},
   "outputs": [
    {
     "name": "stdout",
     "output_type": "stream",
     "text": [
      "Requirement already satisfied: autoscraper in h:\\python_assg\\venv\\lib\\site-packages (1.1.12)\n",
      "Requirement already satisfied: lxml in h:\\python_assg\\venv\\lib\\site-packages (from autoscraper) (4.6.3)\n",
      "Requirement already satisfied: bs4 in h:\\python_assg\\venv\\lib\\site-packages (from autoscraper) (0.0.1)\n",
      "Requirement already satisfied: requests in h:\\python_assg\\venv\\lib\\site-packages (from autoscraper) (2.25.1)\n",
      "Requirement already satisfied: beautifulsoup4 in h:\\python_assg\\venv\\lib\\site-packages (from bs4->autoscraper) (4.9.3)\n",
      "Requirement already satisfied: idna<3,>=2.5 in h:\\python_assg\\venv\\lib\\site-packages (from requests->autoscraper) (2.10)\n",
      "Requirement already satisfied: urllib3<1.27,>=1.21.1 in h:\\python_assg\\venv\\lib\\site-packages (from requests->autoscraper) (1.26.4)\n",
      "Requirement already satisfied: chardet<5,>=3.0.2 in h:\\python_assg\\venv\\lib\\site-packages (from requests->autoscraper) (4.0.0)\n"
     ]
    },
    {
     "name": "stderr",
     "output_type": "stream",
     "text": [
      "WARNING: You are using pip version 19.2.3, however version 21.1 is available.\n",
      "You should consider upgrading via the 'python -m pip install --upgrade pip' command.\n"
     ]
    },
    {
     "name": "stdout",
     "output_type": "stream",
     "text": [
      "Requirement already satisfied: certifi>=2017.4.17 in h:\\python_assg\\venv\\lib\\site-packages (from requests->autoscraper) (2020.12.5)\n",
      "Requirement already satisfied: soupsieve>1.2; python_version >= \"3.0\" in h:\\python_assg\\venv\\lib\\site-packages (from beautifulsoup4->bs4->autoscraper) (2.2.1)\n"
     ]
    }
   ],
   "source": [
    "!pip install autoscraper"
   ]
  },
  {
   "cell_type": "code",
   "execution_count": 3,
   "metadata": {},
   "outputs": [],
   "source": [
    "from autoscraper import AutoScraper\n",
    "import pandas as pd"
   ]
  },
  {
   "cell_type": "code",
   "execution_count": 4,
   "metadata": {},
   "outputs": [
    {
     "name": "stdout",
     "output_type": "stream",
     "text": [
      "https://www.amazon.in/s?k=iphone+11+silver&s=price-desc-rank\n"
     ]
    }
   ],
   "source": [
    "search = \"iphone+11+silver\"\n",
    "amazon_url=\"https://www.amazon.in/s?k={}&s=price-desc-rank\".format(search)\n",
    "print(amazon_url)"
   ]
  },
  {
   "cell_type": "code",
   "execution_count": 5,
   "metadata": {},
   "outputs": [],
   "source": [
    "wanted_list=[\"https://m.media-amazon.com/images/I/71umuN8XVeL._AC_UY218_.jpg\",\"New Apple iPhone 12 Pro Max (128GB) - Silver\",\"1,25,900\",\"513\"]"
   ]
  },
  {
   "cell_type": "code",
   "execution_count": 6,
   "metadata": {},
   "outputs": [],
   "source": [
    "scraper=AutoScraper()\n",
    "result=scraper.build(amazon_url,wanted_list)"
   ]
  },
  {
   "cell_type": "code",
   "execution_count": 7,
   "metadata": {},
   "outputs": [
    {
     "name": "stdout",
     "output_type": "stream",
     "text": [
      "{'rule_lsuv': ['https://m.media-amazon.com/images/I/71umuN8XVeL._AC_UY218_.jpg', 'https://m.media-amazon.com/images/I/61ers6OzvUL._AC_UY218_.jpg', 'https://m.media-amazon.com/images/I/61tuQdl2yLL._AC_UY218_.jpg', 'https://m.media-amazon.com/images/I/611JavcU70L._AC_UY218_.jpg', 'https://m.media-amazon.com/images/I/61oub4ycmVL._AC_UY218_.jpg', 'https://m.media-amazon.com/images/I/61m6DjujESL._AC_UY218_.jpg', 'https://m.media-amazon.com/images/I/61itOh+Je8L._AC_UY218_.jpg', 'https://m.media-amazon.com/images/I/61VK5q8L-oL._AC_UY218_.jpg', 'https://m.media-amazon.com/images/I/61fkdeyq5QL._AC_UY218_.jpg', 'https://m.media-amazon.com/images/I/61tuQdl2yLL._AC_UY218_.jpg', 'https://m.media-amazon.com/images/I/61oub4ycmVL._AC_UY218_.jpg', 'https://m.media-amazon.com/images/I/61ers6OzvUL._AC_UY218_.jpg', 'https://m.media-amazon.com/images/I/611JavcU70L._AC_UY218_.jpg', 'https://m.media-amazon.com/images/I/611JavcU70L._AC_UY218_.jpg', 'https://m.media-amazon.com/images/I/61oub4ycmVL._AC_UY218_.jpg', 'https://m.media-amazon.com/images/I/61tuQdl2yLL._AC_UY218_.jpg'], 'rule_md28': ['New Apple iPhone 12 Pro Max (128GB) - Silver', 'Apple iPhone 11 Pro Max (512GB) - Midnight Green', 'Apple iPhone 11 Pro Max (512GB) - Space Grey', 'Apple iPhone 11 Pro Max (512GB) - Gold', 'Apple iPhone 11 Pro Max (512GB) - Silver', 'Apple iPhone 11 Pro (512GB) - Space Grey', 'Apple iPhone 11 Pro (512GB) - Midnight Green', 'Apple iPhone 11 Pro (512GB) - Silver', 'Apple iPhone 11 Pro (512GB) - Gold', 'Apple iPhone 11 Pro Max (256GB) - Space Grey', 'Apple iPhone 11 Pro Max (256GB) - Silver', 'Apple iPhone 11 Pro Max (256GB) - Midnight Green', 'Apple iPhone 11 Pro Max (256GB) - Gold', 'Apple iPhone 11 Pro Max (64GB) - Gold', 'Apple iPhone 11 Pro Max (64GB) - Silver', 'Apple iPhone 11 Pro Max (64GB) - Space Grey'], 'rule_el1j': ['New Apple iPhone 12 Pro Max (128GB) - Silver', 'Apple iPhone 11 Pro Max (512GB) - Midnight Green', 'Apple iPhone 11 Pro Max (512GB) - Space Grey', 'Apple iPhone 11 Pro Max (512GB) - Gold', 'Apple iPhone 11 Pro Max (512GB) - Silver', 'Apple iPhone 11 Pro (512GB) - Space Grey', 'Apple iPhone 11 Pro (512GB) - Midnight Green', 'Apple iPhone 11 Pro (512GB) - Silver', 'Apple iPhone 11 Pro (512GB) - Gold', 'Apple iPhone 11 Pro Max (256GB) - Space Grey', 'Apple iPhone 11 Pro Max (256GB) - Silver', 'Apple iPhone 11 Pro Max (256GB) - Midnight Green', 'Apple iPhone 11 Pro Max (256GB) - Gold', 'Apple iPhone 11 Pro Max (64GB) - Gold', 'Apple iPhone 11 Pro Max (64GB) - Silver', 'Apple iPhone 11 Pro Max (64GB) - Space Grey'], 'rule_mapq': ['1,25,900', '1,15,900', '1,15,900', '1,15,900', '1,15,900', '1,05,900', '1,05,900', '1,05,900', '1,05,900', '99,900', '94,900', '93,900', '93,900', '92,900', '92,900', '90,900'], 'rule_ario': ['513', '762', '762', '762', '762', '876', '876', '876', '876', '762', '762', '762', '762', '44', '762', '762']}\n"
     ]
    }
   ],
   "source": [
    "data = scraper.get_result_similar(amazon_url,grouped=True)\n",
    "print(data)"
   ]
  },
  {
   "cell_type": "code",
   "execution_count": 8,
   "metadata": {},
   "outputs": [
    {
     "name": "stdout",
     "output_type": "stream",
     "text": [
      "['rule_lsuv', 'rule_md28', 'rule_el1j', 'rule_mapq', 'rule_ario']\n"
     ]
    }
   ],
   "source": [
    "keys = list(data.keys())\n",
    "print(keys)"
   ]
  },
  {
   "cell_type": "code",
   "execution_count": 9,
   "metadata": {},
   "outputs": [
    {
     "name": "stdout",
     "output_type": "stream",
     "text": [
      "['New Apple iPhone 12 Pro Max (128GB) - Silver', 'Apple iPhone 11 Pro Max (512GB) - Midnight Green', 'Apple iPhone 11 Pro Max (512GB) - Space Grey', 'Apple iPhone 11 Pro Max (512GB) - Gold', 'Apple iPhone 11 Pro Max (512GB) - Silver', 'Apple iPhone 11 Pro (512GB) - Space Grey', 'Apple iPhone 11 Pro (512GB) - Midnight Green', 'Apple iPhone 11 Pro (512GB) - Silver', 'Apple iPhone 11 Pro (512GB) - Gold', 'Apple iPhone 11 Pro Max (256GB) - Space Grey', 'Apple iPhone 11 Pro Max (256GB) - Silver', 'Apple iPhone 11 Pro Max (256GB) - Midnight Green', 'Apple iPhone 11 Pro Max (256GB) - Gold', 'Apple iPhone 11 Pro Max (64GB) - Gold', 'Apple iPhone 11 Pro Max (64GB) - Silver', 'Apple iPhone 11 Pro Max (64GB) - Space Grey']\n"
     ]
    }
   ],
   "source": [
    "print(data['rule_el1j'])"
   ]
  },
  {
   "cell_type": "code",
   "execution_count": 10,
   "metadata": {},
   "outputs": [],
   "source": [
    "scraper.set_rule_aliases({str(keys[0]):'ImageUrl',str(keys[2]):'Title',str(keys[-2]):'Price',str(keys[-1]):'Reviews'})"
   ]
  },
  {
   "cell_type": "code",
   "execution_count": 11,
   "metadata": {},
   "outputs": [],
   "source": [
    "scraper.save(\"amazon_data.json\")"
   ]
  },
  {
   "cell_type": "code",
   "execution_count": 12,
   "metadata": {},
   "outputs": [],
   "source": [
    "amazon_scraper = AutoScraper()\n",
    "amazon_scraper.load('amazon_data.json')"
   ]
  },
  {
   "cell_type": "code",
   "execution_count": 13,
   "metadata": {},
   "outputs": [],
   "source": [
    "search = \"samsung phones\"\n",
    "amazon_url=\"https://www.amazon.in/s?k={}&s=price-desc-rank\".format(search)\n",
    "\n",
    "data = amazon_scraper.get_result_similar(amazon_url, group_by_alias=True)\n",
    "search_data = tuple(zip(data['Title'],data['ImageUrl'],data['Price'],data['Reviews']))"
   ]
  },
  {
   "cell_type": "code",
   "execution_count": 14,
   "metadata": {},
   "outputs": [],
   "source": [
    "df = pd.DataFrame(columns=['Query','Title','Price','Reviews','ImageUrl'])\n",
    "for i in range(len(search_data)):\n",
    "    df.loc[len(df)] = [search,search_data[i][0],search_data[i][2],search_data[i][3],search_data[i][1]]"
   ]
  },
  {
   "cell_type": "code",
   "execution_count": 15,
   "metadata": {},
   "outputs": [
    {
     "name": "stdout",
     "output_type": "stream",
     "text": [
      "(15, 5)\n"
     ]
    },
    {
     "data": {
      "text/html": [
       "<div>\n",
       "<style scoped>\n",
       "    .dataframe tbody tr th:only-of-type {\n",
       "        vertical-align: middle;\n",
       "    }\n",
       "\n",
       "    .dataframe tbody tr th {\n",
       "        vertical-align: top;\n",
       "    }\n",
       "\n",
       "    .dataframe thead th {\n",
       "        text-align: right;\n",
       "    }\n",
       "</style>\n",
       "<table border=\"1\" class=\"dataframe\">\n",
       "  <thead>\n",
       "    <tr style=\"text-align: right;\">\n",
       "      <th></th>\n",
       "      <th>Query</th>\n",
       "      <th>Title</th>\n",
       "      <th>Price</th>\n",
       "      <th>Reviews</th>\n",
       "      <th>ImageUrl</th>\n",
       "    </tr>\n",
       "  </thead>\n",
       "  <tbody>\n",
       "    <tr>\n",
       "      <th>0</th>\n",
       "      <td>samsung phones</td>\n",
       "      <td>Samsung Galaxy Z Fold2 5G Mystic Bronze, 12GB ...</td>\n",
       "      <td>1,49,998</td>\n",
       "      <td>71</td>\n",
       "      <td>https://m.media-amazon.com/images/I/71U9nzW+Xs...</td>\n",
       "    </tr>\n",
       "    <tr>\n",
       "      <th>1</th>\n",
       "      <td>samsung phones</td>\n",
       "      <td>Samsung Galaxy Z Fold2 5G (Mystic Black, 12GB ...</td>\n",
       "      <td>1,49,998</td>\n",
       "      <td>71</td>\n",
       "      <td>https://m.media-amazon.com/images/I/71IHjrw1wV...</td>\n",
       "    </tr>\n",
       "    <tr>\n",
       "      <th>2</th>\n",
       "      <td>samsung phones</td>\n",
       "      <td>Samsung Galaxy Fold (Black, 12GB RAM, 512GB St...</td>\n",
       "      <td>1,14,990</td>\n",
       "      <td>15</td>\n",
       "      <td>https://m.media-amazon.com/images/I/71LhAERRPa...</td>\n",
       "    </tr>\n",
       "    <tr>\n",
       "      <th>3</th>\n",
       "      <td>samsung phones</td>\n",
       "      <td>Samsung Galaxy S21 Ultra 5G (Phantom Silver, 1...</td>\n",
       "      <td>1,05,999</td>\n",
       "      <td>393</td>\n",
       "      <td>https://m.media-amazon.com/images/I/91dLTREdG1...</td>\n",
       "    </tr>\n",
       "    <tr>\n",
       "      <th>4</th>\n",
       "      <td>samsung phones</td>\n",
       "      <td>Samsung Galaxy S21 Ultra 5G (Phantom Black, 12...</td>\n",
       "      <td>1,05,999</td>\n",
       "      <td>393</td>\n",
       "      <td>https://m.media-amazon.com/images/I/917nPCOw9-...</td>\n",
       "    </tr>\n",
       "    <tr>\n",
       "      <th>5</th>\n",
       "      <td>samsung phones</td>\n",
       "      <td>Samsung Galaxy Note 20 Ultra 5G (Mystic Black,...</td>\n",
       "      <td>1,04,999</td>\n",
       "      <td>331</td>\n",
       "      <td>https://m.media-amazon.com/images/I/81frwlzRG5...</td>\n",
       "    </tr>\n",
       "    <tr>\n",
       "      <th>6</th>\n",
       "      <td>samsung phones</td>\n",
       "      <td>Samsung Galaxy Note 20 Ultra 5G (Mystic Bronze...</td>\n",
       "      <td>1,04,999</td>\n",
       "      <td>331</td>\n",
       "      <td>https://m.media-amazon.com/images/I/81afQk-7Aj...</td>\n",
       "    </tr>\n",
       "    <tr>\n",
       "      <th>7</th>\n",
       "      <td>samsung phones</td>\n",
       "      <td>(Renewed) Samsung Galaxy S21 Ultra(Phantom Bla...</td>\n",
       "      <td>97,999</td>\n",
       "      <td>1</td>\n",
       "      <td>https://m.media-amazon.com/images/I/61wES5z2Qe...</td>\n",
       "    </tr>\n",
       "    <tr>\n",
       "      <th>8</th>\n",
       "      <td>samsung phones</td>\n",
       "      <td>Samsung Galaxy S20 Ultra (Cloud White, 12GB RA...</td>\n",
       "      <td>89,250</td>\n",
       "      <td>22</td>\n",
       "      <td>https://m.media-amazon.com/images/I/710PrlbpGA...</td>\n",
       "    </tr>\n",
       "    <tr>\n",
       "      <th>9</th>\n",
       "      <td>samsung phones</td>\n",
       "      <td>(Renewed) Samsung Galaxy Note 20 Ultra 5G (Mys...</td>\n",
       "      <td>84,999</td>\n",
       "      <td>10</td>\n",
       "      <td>https://m.media-amazon.com/images/I/51uGZJytm8...</td>\n",
       "    </tr>\n",
       "    <tr>\n",
       "      <th>10</th>\n",
       "      <td>samsung phones</td>\n",
       "      <td>Samsung Galaxy Z Flip (Black, 8GB RAM, 256GB S...</td>\n",
       "      <td>84,999</td>\n",
       "      <td>71</td>\n",
       "      <td>https://m.media-amazon.com/images/I/71SyO27jEj...</td>\n",
       "    </tr>\n",
       "    <tr>\n",
       "      <th>11</th>\n",
       "      <td>samsung phones</td>\n",
       "      <td>Samsung Galaxy Z Flip (Gold, 8GB RAM, 256GB St...</td>\n",
       "      <td>84,800</td>\n",
       "      <td>71</td>\n",
       "      <td>https://m.media-amazon.com/images/I/61e3gEDsIb...</td>\n",
       "    </tr>\n",
       "    <tr>\n",
       "      <th>12</th>\n",
       "      <td>samsung phones</td>\n",
       "      <td>Samsung Galaxy Z Flip (Black, 8GB RAM, 256GB S...</td>\n",
       "      <td>83,999</td>\n",
       "      <td>71</td>\n",
       "      <td>https://m.media-amazon.com/images/I/71SyO27jEj...</td>\n",
       "    </tr>\n",
       "    <tr>\n",
       "      <th>13</th>\n",
       "      <td>samsung phones</td>\n",
       "      <td>Samsung Galaxy S21 Plus(Phantom Violet, 8GB RA...</td>\n",
       "      <td>82,990</td>\n",
       "      <td>112</td>\n",
       "      <td>https://m.media-amazon.com/images/I/91f+vkhKfn...</td>\n",
       "    </tr>\n",
       "    <tr>\n",
       "      <th>14</th>\n",
       "      <td>samsung phones</td>\n",
       "      <td>Samsung Galaxy S20 Ultra (Cosmic Gray, 12GB RA...</td>\n",
       "      <td>82,278</td>\n",
       "      <td>22</td>\n",
       "      <td>https://m.media-amazon.com/images/I/71cD4NUIBW...</td>\n",
       "    </tr>\n",
       "  </tbody>\n",
       "</table>\n",
       "</div>"
      ],
      "text/plain": [
       "             Query                                              Title  \\\n",
       "0   samsung phones  Samsung Galaxy Z Fold2 5G Mystic Bronze, 12GB ...   \n",
       "1   samsung phones  Samsung Galaxy Z Fold2 5G (Mystic Black, 12GB ...   \n",
       "2   samsung phones  Samsung Galaxy Fold (Black, 12GB RAM, 512GB St...   \n",
       "3   samsung phones  Samsung Galaxy S21 Ultra 5G (Phantom Silver, 1...   \n",
       "4   samsung phones  Samsung Galaxy S21 Ultra 5G (Phantom Black, 12...   \n",
       "5   samsung phones  Samsung Galaxy Note 20 Ultra 5G (Mystic Black,...   \n",
       "6   samsung phones  Samsung Galaxy Note 20 Ultra 5G (Mystic Bronze...   \n",
       "7   samsung phones  (Renewed) Samsung Galaxy S21 Ultra(Phantom Bla...   \n",
       "8   samsung phones  Samsung Galaxy S20 Ultra (Cloud White, 12GB RA...   \n",
       "9   samsung phones  (Renewed) Samsung Galaxy Note 20 Ultra 5G (Mys...   \n",
       "10  samsung phones  Samsung Galaxy Z Flip (Black, 8GB RAM, 256GB S...   \n",
       "11  samsung phones  Samsung Galaxy Z Flip (Gold, 8GB RAM, 256GB St...   \n",
       "12  samsung phones  Samsung Galaxy Z Flip (Black, 8GB RAM, 256GB S...   \n",
       "13  samsung phones  Samsung Galaxy S21 Plus(Phantom Violet, 8GB RA...   \n",
       "14  samsung phones  Samsung Galaxy S20 Ultra (Cosmic Gray, 12GB RA...   \n",
       "\n",
       "       Price Reviews                                           ImageUrl  \n",
       "0   1,49,998      71  https://m.media-amazon.com/images/I/71U9nzW+Xs...  \n",
       "1   1,49,998      71  https://m.media-amazon.com/images/I/71IHjrw1wV...  \n",
       "2   1,14,990      15  https://m.media-amazon.com/images/I/71LhAERRPa...  \n",
       "3   1,05,999     393  https://m.media-amazon.com/images/I/91dLTREdG1...  \n",
       "4   1,05,999     393  https://m.media-amazon.com/images/I/917nPCOw9-...  \n",
       "5   1,04,999     331  https://m.media-amazon.com/images/I/81frwlzRG5...  \n",
       "6   1,04,999     331  https://m.media-amazon.com/images/I/81afQk-7Aj...  \n",
       "7     97,999       1  https://m.media-amazon.com/images/I/61wES5z2Qe...  \n",
       "8     89,250      22  https://m.media-amazon.com/images/I/710PrlbpGA...  \n",
       "9     84,999      10  https://m.media-amazon.com/images/I/51uGZJytm8...  \n",
       "10    84,999      71  https://m.media-amazon.com/images/I/71SyO27jEj...  \n",
       "11    84,800      71  https://m.media-amazon.com/images/I/61e3gEDsIb...  \n",
       "12    83,999      71  https://m.media-amazon.com/images/I/71SyO27jEj...  \n",
       "13    82,990     112  https://m.media-amazon.com/images/I/91f+vkhKfn...  \n",
       "14    82,278      22  https://m.media-amazon.com/images/I/71cD4NUIBW...  "
      ]
     },
     "execution_count": 15,
     "metadata": {},
     "output_type": "execute_result"
    }
   ],
   "source": [
    "print(df.shape)\n",
    "df"
   ]
  },
  {
   "cell_type": "code",
   "execution_count": null,
   "metadata": {},
   "outputs": [],
   "source": []
  }
 ],
 "metadata": {
  "kernelspec": {
   "display_name": "Python 3",
   "language": "python",
   "name": "python3"
  },
  "language_info": {
   "codemirror_mode": {
    "name": "ipython",
    "version": 3
   },
   "file_extension": ".py",
   "mimetype": "text/x-python",
   "name": "python",
   "nbconvert_exporter": "python",
   "pygments_lexer": "ipython3",
   "version": "3.8.3"
  }
 },
 "nbformat": 4,
 "nbformat_minor": 4
}
